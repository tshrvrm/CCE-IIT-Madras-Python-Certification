{
  "nbformat": 4,
  "nbformat_minor": 0,
  "metadata": {
    "colab": {
      "provenance": []
    },
    "kernelspec": {
      "name": "python3",
      "display_name": "Python 3"
    },
    "language_info": {
      "name": "python"
    }
  },
  "cells": [
    {
      "cell_type": "code",
      "source": [
        "# Q1. Using Python script as a calculator Create the variables n, r, p and assign them values 10, 5, and 100 respectively. Then evaluate the following expression in the Python console.\n",
        "# Ans - 162.89\n",
        "\n",
        "n = 10\n",
        "r = 5\n",
        "p = 100\n",
        "a = p*((1+5/100)**10)\n",
        "print(a)\n"
      ],
      "metadata": {
        "colab": {
          "base_uri": "https://localhost:8080/"
        },
        "id": "iHI03-2dRVBu",
        "outputId": "815d3eb6-e23d-40d3-c561-b5bb30ea7c99"
      },
      "execution_count": 50,
      "outputs": [
        {
          "output_type": "stream",
          "name": "stdout",
          "text": [
            "162.8894626777442\n"
          ]
        }
      ]
    },
    {
      "cell_type": "code",
      "source": [
        "# Q2. In a given string format operation, how will you print the given string.\n",
        "a = 10\n",
        "b = 20\n",
        "Str = \"There are {} students in the class, with {} who play at least one sport.\"\n",
        "print(Str.format(a,b))\n",
        "print(Str.format(b,a))"
      ],
      "metadata": {
        "colab": {
          "base_uri": "https://localhost:8080/"
        },
        "id": "ElwRrr52TgYb",
        "outputId": "346087ae-f44e-489f-e4c8-98bdbb0ce02b"
      },
      "execution_count": 55,
      "outputs": [
        {
          "output_type": "stream",
          "name": "stdout",
          "text": [
            "There are 10 students in the class, with 20 who play at least one sport.\n",
            "There are 20 students in the class, with 10 who play at least one sport.\n"
          ]
        }
      ]
    },
    {
      "cell_type": "code",
      "source": [
        "# Q3. In a given sample string, How do you print a double quoted string in between a regular string using the escape character?\n",
        "# Sample output = It goes without saying, “Time is Money”, and none can deny it.\n",
        "\n",
        "print(\"It goes without saying, \\\"Time is Money\\\", and none can deny it.\")"
      ],
      "metadata": {
        "colab": {
          "base_uri": "https://localhost:8080/"
        },
        "id": "ghQ-9W8bT9NM",
        "outputId": "c95dd18d-283a-496a-c0d5-b643654f5208"
      },
      "execution_count": 57,
      "outputs": [
        {
          "output_type": "stream",
          "name": "stdout",
          "text": [
            "It goes without saying, \"Time is Money\", and none can deny it.\n"
          ]
        }
      ]
    },
    {
      "cell_type": "code",
      "source": [
        "# Q4. What will be the output of the following code ?\n",
        "# Ans - 3\n",
        "x = lambda a,b : a//b\n",
        "print(x(10,3))"
      ],
      "metadata": {
        "colab": {
          "base_uri": "https://localhost:8080/"
        },
        "id": "wGq2uJ9ARL8L",
        "outputId": "36b363fd-8908-4927-82b2-9a0007d15b4e"
      },
      "execution_count": 48,
      "outputs": [
        {
          "output_type": "stream",
          "name": "stdout",
          "text": [
            "3\n"
          ]
        }
      ]
    },
    {
      "cell_type": "code",
      "source": [
        "# Q5. What will be the output of the following code ?\n",
        "# Ans - Greater\n",
        "A = 10\n",
        "B = 12\n",
        "print(\"Smaller\") if A == B else print(\"Greater\") if A<B else print(\"True\")"
      ],
      "metadata": {
        "colab": {
          "base_uri": "https://localhost:8080/"
        },
        "id": "Bjh8qDHTQ2lf",
        "outputId": "46843b26-9b43-4b4f-ade9-0446ed91c027"
      },
      "execution_count": 47,
      "outputs": [
        {
          "output_type": "stream",
          "name": "stdout",
          "text": [
            "Greater\n"
          ]
        }
      ]
    },
    {
      "cell_type": "code",
      "source": [
        "# Q6. What will be the output of the following code?\n",
        "# Ans - Name Error numpy is not defined.\n",
        "\n",
        "import os\n",
        "import numpy as np\n",
        "my_list1 = [2,7,3,5,4,6]\n",
        "print(my_list1)\n",
        "#arr_1 = numpy.array(my_list1, dtype = int)\n",
        "arr_1 = np.array(my_list1, dtype = int)\n",
        "print(arr_1)"
      ],
      "metadata": {
        "colab": {
          "base_uri": "https://localhost:8080/"
        },
        "id": "u5ncCsqVQTql",
        "outputId": "49d3cc03-9cf2-4b85-b9a3-57ba1d27c3ed"
      },
      "execution_count": 44,
      "outputs": [
        {
          "output_type": "stream",
          "name": "stdout",
          "text": [
            "[2, 7, 3, 5, 4, 6]\n",
            "[2 7 3 5 4 6]\n"
          ]
        }
      ]
    },
    {
      "cell_type": "code",
      "source": [
        "# Q7. Create a string called ‘string’ with the value as “Machine Learning”. Which code(s) is/are appropriate to slice the substring “Learn”?\n",
        "# Ans - string[slice(8,13,1)]\n",
        "string = \"Machine Learning\"\n",
        "print(string[slice(8,13,1)])"
      ],
      "metadata": {
        "colab": {
          "base_uri": "https://localhost:8080/"
        },
        "id": "l0zpY7KMP26b",
        "outputId": "fd01db8f-507d-489c-cb6e-3a59b54ddf87"
      },
      "execution_count": 37,
      "outputs": [
        {
          "output_type": "stream",
          "name": "stdout",
          "text": [
            "Learn\n"
          ]
        }
      ]
    },
    {
      "cell_type": "code",
      "source": [
        "# Q8. Create a sequence of numbers from 10 to 25 and increment by 4. What is the index of the value 18?\n",
        "# Ans - 4\n",
        "intialNumber = 10\n",
        "finalNumber = 25\n",
        "numbersList = []\n",
        "for i in range(intialNumber,finalNumber+1):\n",
        "  numbersList.append(i+4)\n",
        "\n",
        "# find the index of value 18\n",
        "print(numbersList.index(18))"
      ],
      "metadata": {
        "colab": {
          "base_uri": "https://localhost:8080/"
        },
        "id": "D4NS_Re_OaYb",
        "outputId": "acf42958-1c91-48a5-d9e5-a6914f55ec89"
      },
      "execution_count": 34,
      "outputs": [
        {
          "output_type": "stream",
          "name": "stdout",
          "text": [
            "4\n"
          ]
        }
      ]
    },
    {
      "cell_type": "code",
      "source": [
        "# Q9. Which of the following is true with respect to the below codes ?\n",
        "# Ans - num1 = num2\n",
        "\n",
        "num1 = 5**4\n",
        "num2 = pow(5,4)\n",
        "print(num1,num2)"
      ],
      "metadata": {
        "colab": {
          "base_uri": "https://localhost:8080/"
        },
        "id": "KxDj32hOOFNf",
        "outputId": "fa8c0ee2-aedb-4be6-a117-6c7fa3e72da3"
      },
      "execution_count": 30,
      "outputs": [
        {
          "output_type": "stream",
          "name": "stdout",
          "text": [
            "625 625\n"
          ]
        }
      ]
    },
    {
      "cell_type": "code",
      "source": [
        "# Q10. A Python NameError exception is raised when:\n",
        "# a. Trying to access a variable which has not been defined\n",
        "# b. Trying to access a key in a dictionary that does not exist\n",
        "# c. Accessing a column with misspelled column name\n",
        "# d. Accessing the function from a module that has not been imported\n",
        "\n",
        "# Ans - Trying to access a variable which has not been defined.\n",
        "\n",
        "print(z)\n"
      ],
      "metadata": {
        "colab": {
          "base_uri": "https://localhost:8080/",
          "height": 200
        },
        "id": "g8bQTYLaNojt",
        "outputId": "fea89d60-25c7-448c-c128-0edfdd0cfe3b"
      },
      "execution_count": 27,
      "outputs": [
        {
          "output_type": "error",
          "ename": "NameError",
          "evalue": "ignored",
          "traceback": [
            "\u001b[0;31m---------------------------------------------------------------------------\u001b[0m",
            "\u001b[0;31mNameError\u001b[0m                                 Traceback (most recent call last)",
            "\u001b[0;32m<ipython-input-27-a831e9d48eb7>\u001b[0m in \u001b[0;36m<cell line: 9>\u001b[0;34m()\u001b[0m\n\u001b[1;32m      7\u001b[0m \u001b[0;31m# Ans - Trying to access a variable which has not been defined.\u001b[0m\u001b[0;34m\u001b[0m\u001b[0;34m\u001b[0m\u001b[0m\n\u001b[1;32m      8\u001b[0m \u001b[0;34m\u001b[0m\u001b[0m\n\u001b[0;32m----> 9\u001b[0;31m \u001b[0mprint\u001b[0m\u001b[0;34m(\u001b[0m\u001b[0mz\u001b[0m\u001b[0;34m)\u001b[0m\u001b[0;34m\u001b[0m\u001b[0;34m\u001b[0m\u001b[0m\n\u001b[0m",
            "\u001b[0;31mNameError\u001b[0m: name 'z' is not defined"
          ]
        }
      ]
    },
    {
      "cell_type": "code",
      "source": [
        "# Q11. What type of exception will be raised for the code given below ?\n",
        "# Ans : Value Error\n",
        "x = \"string\"\n",
        "int(x)"
      ],
      "metadata": {
        "colab": {
          "base_uri": "https://localhost:8080/",
          "height": 200
        },
        "id": "xYEhYRKTNdiT",
        "outputId": "07d63b9c-647b-4ef8-dec2-7ce785c337cf"
      },
      "execution_count": 26,
      "outputs": [
        {
          "output_type": "error",
          "ename": "ValueError",
          "evalue": "ignored",
          "traceback": [
            "\u001b[0;31m---------------------------------------------------------------------------\u001b[0m",
            "\u001b[0;31mValueError\u001b[0m                                Traceback (most recent call last)",
            "\u001b[0;32m<ipython-input-26-0157dc39203f>\u001b[0m in \u001b[0;36m<cell line: 4>\u001b[0;34m()\u001b[0m\n\u001b[1;32m      2\u001b[0m \u001b[0;31m# Ans : Value Error\u001b[0m\u001b[0;34m\u001b[0m\u001b[0;34m\u001b[0m\u001b[0m\n\u001b[1;32m      3\u001b[0m \u001b[0mx\u001b[0m \u001b[0;34m=\u001b[0m \u001b[0;34m\"string\"\u001b[0m\u001b[0;34m\u001b[0m\u001b[0;34m\u001b[0m\u001b[0m\n\u001b[0;32m----> 4\u001b[0;31m \u001b[0mint\u001b[0m\u001b[0;34m(\u001b[0m\u001b[0mx\u001b[0m\u001b[0;34m)\u001b[0m\u001b[0;34m\u001b[0m\u001b[0;34m\u001b[0m\u001b[0m\n\u001b[0m",
            "\u001b[0;31mValueError\u001b[0m: invalid literal for int() with base 10: 'string'"
          ]
        }
      ]
    },
    {
      "cell_type": "code",
      "source": [
        "# Q12. A FileNotFoundError exception is raised by operating system errors when: -\n",
        "#a. Trying to create a file or directory which already exists\n",
        "#b. A file or directory is requested but does not exist in the working directory\n",
        "#c. Trying to run an operation without the adequate access rights\n",
        "#d. A directory operation, os.listdir() is requested on something which is not a directory\n",
        "\n",
        "# Ans - Option b -> A file or directory is requested but does not exist in the working directory."
      ],
      "metadata": {
        "id": "w8mHh4HLNN3r"
      },
      "execution_count": null,
      "outputs": []
    },
    {
      "cell_type": "code",
      "source": [
        "# Q13. Consider a varibale Z. The value of Z is \"ID-5632\". Data type of Z is :\n",
        "# Ans - Str\n",
        "\n",
        "Z = \"ID-5632\"\n",
        "print(type(Z))"
      ],
      "metadata": {
        "colab": {
          "base_uri": "https://localhost:8080/"
        },
        "id": "1XSQZzxKM_7k",
        "outputId": "edbfc3f5-d692-4f0d-d452-f417c4142404"
      },
      "execution_count": 22,
      "outputs": [
        {
          "output_type": "stream",
          "name": "stdout",
          "text": [
            "<class 'str'>\n"
          ]
        }
      ]
    },
    {
      "cell_type": "code",
      "source": [
        "# Q14. Which of the following variables are character data type ?\n",
        "# Ans - All of the above\n",
        "\n",
        "k = \"4\"\n",
        "J = \"Welcome\"\n",
        "L = \"?\"\n",
        "print(type(k),type(J),type(L))"
      ],
      "metadata": {
        "colab": {
          "base_uri": "https://localhost:8080/"
        },
        "id": "CmVH31inMf4r",
        "outputId": "ac531e57-366b-412d-8106-525a4e70a2e4"
      },
      "execution_count": 20,
      "outputs": [
        {
          "output_type": "stream",
          "name": "stdout",
          "text": [
            "<class 'str'> <class 'str'> <class 'str'> <class 'str'>\n"
          ]
        }
      ]
    },
    {
      "cell_type": "code",
      "source": [
        "# Q15. Choose the symbols that does not have the ability to convert any value to string ?\n",
        "# () is used for grouping expressions, function calls and tuples.\n",
        "# \"\",#,{} are used for string {} for formatting string."
      ],
      "metadata": {
        "id": "SiFUkb5MMUfP"
      },
      "execution_count": null,
      "outputs": []
    },
    {
      "cell_type": "code",
      "source": [
        "# Q16. Create a dictionary Country that maps the following countries to their capitals respectively.\n",
        "# Find 2 commands to replace \"Marseilles\" with \"Paris\"\n",
        "\n",
        "Country = {\"India\":\"Delhi\",\"China\":\"Beijing\",\"Japan\":\"Tokyo\",\"Qatar\":\"Doha\",\"France\":\"Marseilles\"}\n",
        "# Update Directly\n",
        "Country[\"France\"] = \"Paris\"\n",
        "# Update using update method\n",
        "Country.update(France=\"Paris\")\n",
        "\n",
        "# Print\n",
        "for key in Country:\n",
        "  print(f'{key} -> {Country[key]}')"
      ],
      "metadata": {
        "colab": {
          "base_uri": "https://localhost:8080/"
        },
        "id": "UfpE7-fuKSIj",
        "outputId": "495ce831-8c15-46e7-faa3-94b89f70d585"
      },
      "execution_count": 17,
      "outputs": [
        {
          "output_type": "stream",
          "name": "stdout",
          "text": [
            "India -> Delhi\n",
            "China -> Beijing\n",
            "Japan -> Tokyo\n",
            "Qatar -> Doha\n",
            "France -> Paris\n"
          ]
        }
      ]
    },
    {
      "cell_type": "code",
      "source": [
        "# Q17. Create the tuples given below\n",
        "# tuple_1 = (1,5,6,7,8)\n",
        "# tuple_2 = (8,9,4)\n",
        "# Identify which of the following code does not work on a tuple\n",
        "# Ans = tuple_1[3] = 45\n",
        "\n",
        "tuple_1 = (1,5,6,7,8)\n",
        "tuple_2 = (8,9,4)\n",
        "\n",
        "print(sum(tuple_1))\n",
        "print(len(tuple_2))\n",
        "print(tuple_2 + tuple_1)\n",
        "#tuple_1[3] = 45 -> This is not allowed as tuple is immutable"
      ],
      "metadata": {
        "colab": {
          "base_uri": "https://localhost:8080/"
        },
        "id": "MWVyEe5UJwxJ",
        "outputId": "a07fed0a-d05f-4008-c316-3dd48e4225ce"
      },
      "execution_count": 9,
      "outputs": [
        {
          "output_type": "stream",
          "name": "stdout",
          "text": [
            "27\n",
            "3\n",
            "(8, 9, 4, 1, 5, 6, 7, 8)\n"
          ]
        }
      ]
    },
    {
      "cell_type": "code",
      "execution_count": 5,
      "metadata": {
        "colab": {
          "base_uri": "https://localhost:8080/"
        },
        "id": "tQBBm4lXIFqF",
        "outputId": "824ca968-d4d6-4851-a5a6-9b5458c919cc"
      },
      "outputs": [
        {
          "output_type": "stream",
          "name": "stdout",
          "text": [
            "Lenght of set {1, 2, 3, 4, 5, 6} is 6\n"
          ]
        }
      ],
      "source": [
        "# Q18. How many elements in the following data structure ?\n",
        "# S = {1,2,3,4,4,4,5,6}\n",
        "# Ans = 6\n",
        "\n",
        "S = {1,2,3,4,4,4,5,6}\n",
        "print(f'Lenght of set {S} is {len(S)}')"
      ]
    },
    {
      "cell_type": "code",
      "source": [
        "# Q19. Write a function which finds all pythagorean triplets of triangles whose sides are no greater than a natural number N\n",
        "\n",
        "def find_pythagorean_triplets(N):\n",
        "    triplets = []\n",
        "    for a in range(1, N + 1):\n",
        "        for b in range(a, N + 1):\n",
        "            c_square = a**2 + b**2\n",
        "            c = int(c_square**0.5)\n",
        "            if c <= N and c_square == c**2:\n",
        "                triplets.append((a, b, c))\n",
        "    return triplets\n",
        "\n",
        "N = 20\n",
        "triplets = find_pythagorean_triplets(N)\n",
        "print(triplets)\n",
        "\n"
      ],
      "metadata": {
        "colab": {
          "base_uri": "https://localhost:8080/"
        },
        "id": "fL05xlKHU0zn",
        "outputId": "a28e23d4-760e-41cc-9ef5-d4df06542c00"
      },
      "execution_count": 58,
      "outputs": [
        {
          "output_type": "stream",
          "name": "stdout",
          "text": [
            "[(3, 4, 5), (5, 12, 13), (6, 8, 10), (8, 15, 17), (9, 12, 15), (12, 16, 20)]\n"
          ]
        }
      ]
    }
  ]
}