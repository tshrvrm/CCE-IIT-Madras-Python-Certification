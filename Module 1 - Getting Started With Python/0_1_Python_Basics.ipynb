{
  "nbformat": 4,
  "nbformat_minor": 0,
  "metadata": {
    "colab": {
      "provenance": []
    },
    "kernelspec": {
      "name": "python3",
      "display_name": "Python 3"
    },
    "language_info": {
      "name": "python"
    }
  },
  "cells": [
    {
      "cell_type": "markdown",
      "source": [
        "Python ?\n",
        "- Python is an object-oriented, interpreted, high-level programming language.\n",
        "- It is general purpose and we use it to develop GUI, Web Applications etc..\n",
        "- With python, we can concentrate on the business logic of our code rather than investing a lot of time in common programming tasks."
      ],
      "metadata": {
        "id": "__5Tgv_r4raX"
      }
    },
    {
      "cell_type": "markdown",
      "source": [
        "Variables ?\n",
        "- Variables are used to store and retrieve data from our system memory.\n",
        "- We can store value in a variable by assigning a value to a variable or getting the value as input from user.\n",
        "- A variable can start with a letter or underscore and cannot start with numbers."
      ],
      "metadata": {
        "id": "qZsepVIs5NOA"
      }
    },
    {
      "cell_type": "code",
      "source": [
        "# Assigning a single value variables\n",
        "marks = 99\n",
        "name = 'Tushar'\n",
        "salary = 2000.23\n",
        "print(marks)\n",
        "print(name)\n",
        "print(salary)\n",
        "\n",
        "# Assigning a multi value variables\n",
        "a=b=c=10\n",
        "x,y,z = 10,20,30\n",
        "print(a,b,c)\n",
        "print(x,y,z)\n",
        "\n",
        "# Getting user input\n",
        "user_name = input(\"Enter your name : \")\n",
        "print(user_name)\n",
        "pin_code = int(input(\"Enter you pin code : \"))\n",
        "print(pin_code)\n"
      ],
      "metadata": {
        "colab": {
          "base_uri": "https://localhost:8080/"
        },
        "id": "oZWPPoC45XCW",
        "outputId": "c30ca359-24e6-496a-d4ae-36a1e6586def"
      },
      "execution_count": 6,
      "outputs": [
        {
          "output_type": "stream",
          "name": "stdout",
          "text": [
            "99\n",
            "Tushar\n",
            "2000.23\n",
            "10 10 10\n",
            "10 20 30\n",
            "Enter your name : Tushar\n",
            "Tushar\n",
            "Enter you pin code : 203131\n",
            "203131\n"
          ]
        }
      ]
    },
    {
      "cell_type": "markdown",
      "source": [
        "Data Types ?"
      ],
      "metadata": {
        "id": "CLtelFxl7zbk"
      }
    },
    {
      "cell_type": "code",
      "source": [
        "# Checking if number is odd or even\n",
        "number = int(input(\"Enter any number : \"))\n",
        "if number % 2 == 0 :\n",
        "  print(f'{number} is even')\n",
        "else:\n",
        "  print(f'{number} is odd')"
      ],
      "metadata": {
        "colab": {
          "base_uri": "https://localhost:8080/"
        },
        "id": "PUc5qt258E8A",
        "outputId": "aae4251c-bdfd-460b-dc4a-ee884881d377"
      },
      "execution_count": 9,
      "outputs": [
        {
          "output_type": "stream",
          "name": "stdout",
          "text": [
            "Enter any number : 9\n",
            "9 is odd\n"
          ]
        }
      ]
    },
    {
      "cell_type": "code",
      "source": [
        "# Printing the table of a given number\n",
        "number = int(input(\"Enter any number : \"))\n",
        "for i in range(1,11):\n",
        "  result = number * i\n",
        "  print(f'{number} x {i} = {result}')"
      ],
      "metadata": {
        "colab": {
          "base_uri": "https://localhost:8080/"
        },
        "id": "Xk6_j7ED8vJC",
        "outputId": "553a4f94-763e-4057-90da-e90884e46e46"
      },
      "execution_count": 13,
      "outputs": [
        {
          "output_type": "stream",
          "name": "stdout",
          "text": [
            "Enter any number : 5\n",
            "5 x 1 = 5\n",
            "5 x 2 = 10\n",
            "5 x 3 = 15\n",
            "5 x 4 = 20\n",
            "5 x 5 = 25\n",
            "5 x 6 = 30\n",
            "5 x 7 = 35\n",
            "5 x 8 = 40\n",
            "5 x 9 = 45\n",
            "5 x 10 = 50\n"
          ]
        }
      ]
    },
    {
      "cell_type": "code",
      "source": [
        "#List\n",
        "\n",
        "#Create\n",
        "names = []\n",
        "age = list()\n",
        "print(names, age)\n",
        "\n",
        "#Initialize\n",
        "age = [25,18,21]\n",
        "print(age)\n",
        "\n",
        "#Append\n",
        "age.append(25)\n",
        "print(age)\n",
        "\n",
        "#Delete\n",
        "age.pop()\n",
        "print(age)\n",
        "\n",
        "age.pop(1) # passing index\n",
        "print(age)"
      ],
      "metadata": {
        "colab": {
          "base_uri": "https://localhost:8080/"
        },
        "id": "jW70Uqh0DbhD",
        "outputId": "2bdd5b38-7bc9-417b-c1d8-b3a9498aaf69"
      },
      "execution_count": 5,
      "outputs": [
        {
          "output_type": "stream",
          "name": "stdout",
          "text": [
            "[] []\n",
            "[25, 18, 21]\n",
            "[25, 18, 21, 25]\n",
            "[25, 18, 21]\n",
            "[25, 21]\n"
          ]
        }
      ]
    },
    {
      "cell_type": "code",
      "source": [
        "#Tuple\n",
        "\n",
        "#Create - > To create an empty tuple you can use the tuple function ot use empty ()\n",
        "options = ()\n",
        "names = tuple()\n",
        "print(f'options -> {options} , names -> {names}')\n",
        "\n",
        "#Initialize\n",
        "age_list = [24,34,23,67,34]\n",
        "age = tuple(age_list)\n",
        "print(f'Age tuple -> {age}')\n",
        "\n",
        "marks = 10,20,30,40\n",
        "print(f'marks -> {marks}')\n",
        "\n",
        "#Search\n",
        "print(20 in marks)\n",
        "print(60 in marks)\n",
        "print(100 in age)\n",
        "print(marks.index(10))\n",
        "print(marks.index(40))\n",
        "\n",
        "#Slice\n",
        "print(marks)\n",
        "print(age)\n",
        "print(marks[2:4])\n",
        "print(age[1:3])"
      ],
      "metadata": {
        "colab": {
          "base_uri": "https://localhost:8080/"
        },
        "id": "QkDrPDlWB8Dy",
        "outputId": "beee306c-6de6-4e04-b5d8-1138513c6924"
      },
      "execution_count": 46,
      "outputs": [
        {
          "output_type": "stream",
          "name": "stdout",
          "text": [
            "options -> () , names -> ()\n",
            "Age tuple -> (24, 34, 23, 67, 34)\n",
            "marks -> (10, 20, 30, 40)\n",
            "True\n",
            "False\n",
            "False\n",
            "0\n",
            "3\n",
            "(10, 20, 30, 40)\n",
            "(24, 34, 23, 67, 34)\n",
            "(30, 40)\n",
            "(34, 23)\n"
          ]
        }
      ]
    },
    {
      "cell_type": "code",
      "source": [
        "#Dictionary\n",
        "\n",
        "#Create -> To create an empty dictionary you can either use the dict function or use the curly braces syntax\n",
        "names = {}\n",
        "age = dict()\n",
        "print(f'names empty dictionary {names} , age empty dictionary {age}')\n",
        "\n",
        "#Initialize -> To initialize dictornary with some values you can either pass some nested data structure to dict function or use the curly braces syntax\n",
        "age_list = [['a',1],['b',2],['c',3]]\n",
        "age_dict = dict(age_list)\n",
        "print(f'Age dictionary : {age_dict}')\n",
        "\n",
        "age = {'a':1,'b':2,'c':3}\n",
        "print(age)\n",
        "\n",
        "#Add -> To add a new key value pair by using this syntax dict_name[key] = value\n",
        "age['d']=4\n",
        "print(age)\n",
        "\n",
        "#Remove -> To remove an element just use the del keyword with the key dictionary name.\n",
        "del age['d']\n",
        "print(age)\n",
        "\n",
        "#Search -> To search a value you need to use the memebership operator with the key, if the key is found it returns true else it returns false\n",
        "print(age)\n",
        "print('a' in age)\n",
        "print('d' in age)\n",
        "\n",
        "# Traverse Dict (key, value)\n",
        "for key in age:\n",
        "  print(f'{key} -> {age[key]}')"
      ],
      "metadata": {
        "colab": {
          "base_uri": "https://localhost:8080/"
        },
        "id": "E9KKZ7Vj_cT0",
        "outputId": "7e8f1f79-601a-4f53-c030-ade8009d4a74"
      },
      "execution_count": 36,
      "outputs": [
        {
          "output_type": "stream",
          "name": "stdout",
          "text": [
            "names empty dictionary {} , age empty dictionary {}\n",
            "Age dictionary : {'a': 1, 'b': 2, 'c': 3}\n",
            "{'a': 1, 'b': 2, 'c': 3}\n",
            "{'a': 1, 'b': 2, 'c': 3, 'd': 4}\n",
            "{'a': 1, 'b': 2, 'c': 3}\n",
            "{'a': 1, 'b': 2, 'c': 3}\n",
            "True\n",
            "False\n",
            "a -> 1\n",
            "b -> 2\n",
            "c -> 3\n"
          ]
        }
      ]
    },
    {
      "cell_type": "code",
      "source": [
        "# Creating a Function\n",
        "# A function can have multiple parts of it -> Name, Parameters, Return Statement\n",
        "\n",
        "# Creating Function\n",
        "def add_two_numbers(x,y):\n",
        "  return x+y\n",
        "\n",
        "# Calling Function\n",
        "print(add_two_numbers(10,20))\n",
        "\n",
        "# Types of functions -> User Defined Function, Built in Defined Function\n",
        "# User defined functions\n",
        "def find_max(nums):\n",
        "  result = nums[0]\n",
        "  for x in nums:\n",
        "    if x > result:\n",
        "      result = x\n",
        "  return result\n",
        "\n",
        "print(find_max([10,20,30,56]))\n",
        "\n",
        "# Built in function\n",
        "# abs(), all(), any(), ascii(), bin(), bool()\n",
        "print(bin(10))"
      ],
      "metadata": {
        "colab": {
          "base_uri": "https://localhost:8080/"
        },
        "id": "yuPkV83I9YCK",
        "outputId": "7d7decd5-643e-4777-8a1b-39242c91bb02"
      },
      "execution_count": 20,
      "outputs": [
        {
          "output_type": "stream",
          "name": "stdout",
          "text": [
            "30\n",
            "56\n",
            "0b1010\n"
          ]
        }
      ]
    }
  ]
}