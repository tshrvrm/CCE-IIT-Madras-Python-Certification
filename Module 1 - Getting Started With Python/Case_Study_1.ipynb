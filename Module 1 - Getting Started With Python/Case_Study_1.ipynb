{
  "nbformat": 4,
  "nbformat_minor": 0,
  "metadata": {
    "colab": {
      "provenance": []
    },
    "kernelspec": {
      "name": "python3",
      "display_name": "Python 3"
    },
    "language_info": {
      "name": "python"
    }
  },
  "cells": [
    {
      "cell_type": "markdown",
      "source": [
        "## Problem Statement:\n",
        "Consider yourself to be Sam who is a data scientist. He has been invited as a\n",
        "guest lecturer at a college to take an introductory session on Python.\n"
      ],
      "metadata": {
        "id": "_gEzANYrDrlB"
      }
    },
    {
      "cell_type": "markdown",
      "source": [
        "1. Create a list containing squares of numbers from 1 to 10 (HINT: use List\n",
        "Comprehension)"
      ],
      "metadata": {
        "id": "02VyfCmjDzNX"
      }
    },
    {
      "cell_type": "code",
      "source": [
        "# Using List Comprehension\n",
        "squareNumbers = [number**2 for number in range(1,11)]\n",
        "print(f'List contaning squares of number from 1 to 10 -> {squareNumbers}')"
      ],
      "metadata": {
        "colab": {
          "base_uri": "https://localhost:8080/"
        },
        "id": "R2Cet76ID0cN",
        "outputId": "20b5803c-82ee-4cfb-cad1-8156c23d59d2"
      },
      "execution_count": 20,
      "outputs": [
        {
          "output_type": "stream",
          "name": "stdout",
          "text": [
            "List contaning squares of number from 1 to 10 -> [1, 4, 9, 16, 25, 36, 49, 64, 81, 100]\n"
          ]
        }
      ]
    },
    {
      "cell_type": "markdown",
      "source": [
        "2. Write a function to check if the year number is a leap year."
      ],
      "metadata": {
        "id": "8HjHfkT-EdRi"
      }
    },
    {
      "cell_type": "code",
      "source": [
        "# Logic :\n",
        "# Leap Year if perfectly divisible by 400\n",
        "# Not a Leap Year if divisble by 100 but not divisble by 400\n",
        "# Leap Year if not divisble by 100 but divisible by 4\n",
        "def isLeapYear(year):\n",
        "  if year%400 == 0:\n",
        "    return True\n",
        "  elif year%100 == 0:\n",
        "    return False\n",
        "  elif year%4 == 0:\n",
        "    return True\n",
        "  return False\n",
        "\n",
        "year = int(input(\"Enter year to be checked : \"))\n",
        "\n",
        "if isLeapYear(year):\n",
        "  print(f'{year} is a leap year.')\n",
        "else:\n",
        "  print(f'{year} is not a leap year.')"
      ],
      "metadata": {
        "colab": {
          "base_uri": "https://localhost:8080/"
        },
        "id": "xzOj_4bmEiL9",
        "outputId": "b5028352-0a99-4083-ae5d-36c830ad0ecc"
      },
      "execution_count": 14,
      "outputs": [
        {
          "output_type": "stream",
          "name": "stdout",
          "text": [
            "Enter year to be checked : 2012\n",
            "2012 is a leap year.\n"
          ]
        }
      ]
    },
    {
      "cell_type": "markdown",
      "source": [
        "3. Write a function to take an array and return another array that contains the\n",
        "members of the first array that are even."
      ],
      "metadata": {
        "id": "UuNRi2KMItzO"
      }
    },
    {
      "cell_type": "code",
      "source": [
        "def extractEvenData(firstArray):\n",
        "  secondArray = list()\n",
        "  for element in firstArray:\n",
        "    if element%2 == 0:\n",
        "      secondArray.append(element)\n",
        "  return secondArray\n",
        "\n",
        "firstArray = list(map(int, input(\"Enter the input of first array : \").split()))\n",
        "print(extractEvenData(firstArray))"
      ],
      "metadata": {
        "colab": {
          "base_uri": "https://localhost:8080/"
        },
        "id": "yjnWxgaJIvtc",
        "outputId": "17d9741a-6acb-4431-fe01-6d84d4c5c6f7"
      },
      "execution_count": 19,
      "outputs": [
        {
          "output_type": "stream",
          "name": "stdout",
          "text": [
            "Enter the input of first array : 45 56 75 85 96 23 48 76 85 1 2\n",
            "[56, 96, 48, 76, 2]\n"
          ]
        }
      ]
    },
    {
      "cell_type": "markdown",
      "source": [
        "4. Write a function that takes 2 arrays and prints the members of the first\n",
        "array that are present in the second array. (HINT: use Membership\n",
        "Comprehension)"
      ],
      "metadata": {
        "id": "QdS_x8eOKs1W"
      }
    },
    {
      "cell_type": "code",
      "source": [
        "def extractElements(firstArray, secondArray):\n",
        "  resultArray = []\n",
        "  for i in firstArray:\n",
        "    if i in secondArray:\n",
        "      resultArray.append(i)\n",
        "  return resultArray\n",
        "\n",
        "firstArray = list(map(int, input(\"Enter first array : \").split()))\n",
        "secondArray = list(map(int, input(\"Enter second array : \").split()))\n",
        "\n",
        "print(extractElements(firstArray,secondArray))"
      ],
      "metadata": {
        "colab": {
          "base_uri": "https://localhost:8080/"
        },
        "id": "QekutWOBKy32",
        "outputId": "a16973ae-1f7d-4c9f-a5d9-db3c3346d9db"
      },
      "execution_count": 23,
      "outputs": [
        {
          "output_type": "stream",
          "name": "stdout",
          "text": [
            "Enter first array : 1 2 3 4 5 6 7 8 9 10\n",
            "Enter second array : 6 5 8 1 0 4 9 8 0 6 \n",
            "[1, 4, 5, 6, 8, 9]\n"
          ]
        }
      ]
    }
  ]
}