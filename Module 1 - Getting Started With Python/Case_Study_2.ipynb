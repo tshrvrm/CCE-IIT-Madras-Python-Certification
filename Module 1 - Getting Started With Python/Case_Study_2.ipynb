{
  "nbformat": 4,
  "nbformat_minor": 0,
  "metadata": {
    "colab": {
      "provenance": []
    },
    "kernelspec": {
      "name": "python3",
      "display_name": "Python 3"
    },
    "language_info": {
      "name": "python"
    }
  },
  "cells": [
    {
      "cell_type": "markdown",
      "source": [
        "1.Create 1st tuple with values -> (10, 20, 30), 2nd tuple with values -> (40,\n",
        "50, 60):\n",
        "\n",
        "- Concatenate the two tuples and store it in “t_combine”\n",
        "- Repeat the elements of “t_combine” 3 times\n",
        "- Access the 3rd element from “t_combine”\n",
        "- Access the first three elements from “t_combine”\n",
        "- Access the last three element from t_combine"
      ],
      "metadata": {
        "id": "l9mccb1WPD7_"
      }
    },
    {
      "cell_type": "code",
      "execution_count": 14,
      "metadata": {
        "colab": {
          "base_uri": "https://localhost:8080/"
        },
        "id": "sJqhq2woMc2I",
        "outputId": "95cbeaff-37cf-4bdf-f0a8-b3ccbc7d4723"
      },
      "outputs": [
        {
          "output_type": "stream",
          "name": "stdout",
          "text": [
            "(10, 20, 30, 40, 50, 60)\n",
            "(10, 20, 30, 40, 50, 60, 10, 20, 30, 40, 50, 60, 10, 20, 30, 40, 50, 60)\n",
            "30\n",
            "(10, 20, 30)\n",
            "(40, 50, 60)\n"
          ]
        }
      ],
      "source": [
        "firstTuple = (10,20,30)\n",
        "secondTuple = (40,50,60)\n",
        "\n",
        "# Concatenate the two tuples and store\n",
        "t_combine = firstTuple + secondTuple\n",
        "print(t_combine)\n",
        "\n",
        "# Repeat the elements of \"t_combine\" 3 times.\n",
        "print(t_combine * 3)\n",
        "\n",
        "# Access the 3rd element from t_combine\n",
        "print(t_combine[2])\n",
        "\n",
        "# Access the first three element from t_combine\n",
        "print(t_combine[0:3])\n",
        "\n",
        "# Accss the last three element from t_combine\n",
        "print(t_combine[len(t_combine)-3:len(t_combine)])"
      ]
    },
    {
      "cell_type": "markdown",
      "source": [
        "2. Create a list ‘my_list’ with these elements:\n",
        "- First element is a tuple with values 1, 2, 3\n",
        "- Second element is a tuple with values “a”, “b”, “c”\n",
        "- Third element is a tuple with values True,False"
      ],
      "metadata": {
        "id": "VdaKzK1VRKoK"
      }
    },
    {
      "cell_type": "code",
      "source": [
        "fTuple = (1,2,3)\n",
        "sTuple = ('a','b','c')\n",
        "tTuple = (True,False)\n",
        "\n",
        "my_list = [fTuple,sTuple,tTuple]\n",
        "print(my_list)"
      ],
      "metadata": {
        "colab": {
          "base_uri": "https://localhost:8080/"
        },
        "id": "1dtIg1duPZPQ",
        "outputId": "d91db8de-d4d1-48a9-b69d-a3be3ba52d29"
      },
      "execution_count": 18,
      "outputs": [
        {
          "output_type": "stream",
          "name": "stdout",
          "text": [
            "[(1, 2, 3), ('a', 'b', 'c'), (True, False)]\n"
          ]
        }
      ]
    },
    {
      "cell_type": "markdown",
      "source": [
        "3. Append a new tuple – (1, ‘a’, True) to ‘my_list’:\n",
        "- Append a new list – *“sparta”, 123+ to my_list\n"
      ],
      "metadata": {
        "id": "0xYIraCPRFDy"
      }
    },
    {
      "cell_type": "code",
      "source": [
        "aTuple = (1,'a',True)\n",
        "my_list.append(aTuple)\n",
        "print(my_list)"
      ],
      "metadata": {
        "colab": {
          "base_uri": "https://localhost:8080/"
        },
        "id": "4VKfwUyiP4WF",
        "outputId": "6b83bce9-1463-4a15-cc32-3e202dc768c4"
      },
      "execution_count": 20,
      "outputs": [
        {
          "output_type": "stream",
          "name": "stdout",
          "text": [
            "[(1, 2, 3), ('a', 'b', 'c'), (True, False), (1, 'a', True)]\n"
          ]
        }
      ]
    },
    {
      "cell_type": "markdown",
      "source": [
        "4. Create a dictionary ‘fruit’ where:\n",
        "- The first key is ‘Fruit’ and the values are (“Apple”, “Banana”, “Mango”,\n",
        "“Guava”)\n",
        "- The second key is ‘Cost’ and the values are (85, 54, 120, 70)\n",
        "- Extract all the keys from ‘fruit’\n",
        "- Extract all the values from ‘fruit’"
      ],
      "metadata": {
        "id": "q2zz5v-WRAAG"
      }
    },
    {
      "cell_type": "code",
      "source": [
        "fruit = {'Fruit':[\"Apple\",\"Banana\",\"Mango\",\"Guava\"], \"Cost\":[85,54,120,70]}\n",
        "for key in fruit:\n",
        "  print(f'Key -> {key} :: Value -> {fruit[key]}')"
      ],
      "metadata": {
        "colab": {
          "base_uri": "https://localhost:8080/"
        },
        "id": "wDHBqofpQIwC",
        "outputId": "32520e62-ea0f-4599-e3e4-1517dbe48f63"
      },
      "execution_count": 25,
      "outputs": [
        {
          "output_type": "stream",
          "name": "stdout",
          "text": [
            "Key -> Fruit :: Value -> ['Apple', 'Banana', 'Mango', 'Guava']\n",
            "Key -> Cost :: Value -> [85, 54, 120, 70]\n"
          ]
        }
      ]
    },
    {
      "cell_type": "markdown",
      "source": [
        "5. Create a set named ‘my_set’ with values (1, 1, “a”, “a”, True, True) and\n",
        "print the result."
      ],
      "metadata": {
        "id": "ILhXtJ3gQ81V"
      }
    },
    {
      "cell_type": "code",
      "source": [
        "my_set = {1,1,\"a\",\"a\",True,True}\n",
        "print(my_set)"
      ],
      "metadata": {
        "colab": {
          "base_uri": "https://localhost:8080/"
        },
        "id": "VyRh3ou4QuJs",
        "outputId": "36430443-9176-4587-d874-9fb5a4b0cdd3"
      },
      "execution_count": 26,
      "outputs": [
        {
          "output_type": "stream",
          "name": "stdout",
          "text": [
            "{1, 'a'}\n"
          ]
        }
      ]
    }
  ]
}